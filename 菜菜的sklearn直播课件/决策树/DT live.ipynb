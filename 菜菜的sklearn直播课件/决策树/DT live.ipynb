{
 "cells": [
  {
   "cell_type": "markdown",
   "id": "b0cb838c-ca39-427b-9534-c6fd1ceeef79",
   "metadata": {},
   "source": [
    "# 参数"
   ]
  },
  {
   "cell_type": "code",
   "execution_count": null,
   "id": "0cee4875-0ae5-45ee-9f7c-3556c853701f",
   "metadata": {},
   "outputs": [],
   "source": [
    "from sklearn import tree\n",
    "from sklearn.datasets import load_wine\n",
    "from sklearn.model_selection import train_test_split"
   ]
  },
  {
   "cell_type": "code",
   "execution_count": null,
   "id": "8a571f11-c077-4699-ac7f-1a7d394ecaed",
   "metadata": {},
   "outputs": [],
   "source": [
    "wine = load_wine()\n",
    "wine.data.shape\n",
    "wine.target\n",
    "#如果wine是一张表，应该长这样：\n",
    "import pandas as pd\n",
    "pd.concat([pd.DataFrame(wine.data),pd.DataFrame(wine.target)],axis=1)\n",
    "wine.feature_names\n",
    "wine.target_names"
   ]
  },
  {
   "cell_type": "code",
   "execution_count": null,
   "id": "9a82a85e-2b52-4bc3-bc3a-55d7855ec19d",
   "metadata": {},
   "outputs": [],
   "source": [
    "Xtrain, Xtest, Ytrain, Ytest = train_test_split(wine.data,wine.target,test_size=0.3)\n",
    "Xtrain.shape\n",
    "Xtest.shape"
   ]
  },
  {
   "cell_type": "code",
   "execution_count": null,
   "id": "df0327fa-8cf4-4cbd-b196-18c1d2d53329",
   "metadata": {},
   "outputs": [],
   "source": [
    "clf = tree.DecisionTreeClassifier(criterion=\"entropy\")\n",
    "clf = clf.fit(Xtrain, Ytrain)\n",
    "score = clf.score(Xtest, Ytest) #返回预测的准确度\n",
    "score"
   ]
  },
  {
   "cell_type": "code",
   "execution_count": null,
   "id": "3ed671df-8442-4dd9-9363-405510f6a0ea",
   "metadata": {},
   "outputs": [],
   "source": [
    "feature_name = ['酒精','苹果酸','灰','灰的碱性','镁','总酚','类黄酮','非黄烷类酚类','花青素','颜色强度','色调','od280/od315稀释葡萄酒','脯氨酸']\n",
    "\n",
    "import graphviz\n",
    "dot_data = tree.export_graphviz(clf\n",
    "                               ,feature_names= feature_name#特征的名字\n",
    "                               ,class_names=[\"琴酒\",\"雪莉\",\"贝尔摩德\"]#指示分成什么类\n",
    "                               ,filled=True#填充颜色，颜色越浅，不纯度越高\n",
    "                               ,rounded=True#圆框框\n",
    "                               )\n",
    "graph = graphviz.Source(dot_data)\n",
    "graph"
   ]
  },
  {
   "cell_type": "code",
   "execution_count": null,
   "id": "59eb4e56-c069-4eeb-b429-2a5504d7969f",
   "metadata": {},
   "outputs": [],
   "source": [
    "#特征重要性\n",
    "clf.feature_importances_"
   ]
  },
  {
   "cell_type": "code",
   "execution_count": null,
   "id": "5512cec9-a9f7-4946-ae98-0914c19f5b88",
   "metadata": {},
   "outputs": [],
   "source": [
    "[*zip(feature_name,clf.feature_importances_)]"
   ]
  },
  {
   "cell_type": "code",
   "execution_count": null,
   "id": "762b07c8-f260-4d0a-a24a-a6607ac303e7",
   "metadata": {},
   "outputs": [],
   "source": [
    "clf = tree.DecisionTreeClassifier(criterion=\"entropy\",random_state=30)#选取随机种子\n",
    "clf = clf.fit(Xtrain, Ytrain)\n",
    "score = clf.score(Xtest, Ytest) #返回预测的准确度\n",
    "score"
   ]
  },
  {
   "cell_type": "code",
   "execution_count": null,
   "id": "f19e837e-54b3-4013-b09e-6691dcbef3cf",
   "metadata": {},
   "outputs": [],
   "source": [
    "clf = tree.DecisionTreeClassifier(criterion=\"entropy\"\n",
    "                                 ,random_state=30\n",
    "                                 ,splitter=\"random\"\n",
    "                                 )\n",
    "clf = clf.fit(Xtrain, Ytrain)\n",
    "score = clf.score(Xtest, Ytest)\n",
    "score"
   ]
  },
  {
   "cell_type": "code",
   "execution_count": null,
   "id": "507b8c3a-0dd6-4675-b956-a3215273abef",
   "metadata": {},
   "outputs": [],
   "source": [
    "import graphviz\n",
    "dot_data = tree.export_graphviz(clf\n",
    "                               ,feature_names= feature_name\n",
    "                               ,class_names=[\"琴酒\",\"雪莉\",\"贝尔摩德\"]\n",
    "                               ,filled=True\n",
    "                               ,rounded=True\n",
    "                               )  \n",
    "graph = graphviz.Source(dot_data)\n",
    "graph"
   ]
  },
  {
   "cell_type": "markdown",
   "id": "e660d74c-9999-49f5-b66f-a38a533d8b13",
   "metadata": {},
   "source": [
    "# 预剪枝"
   ]
  },
  {
   "cell_type": "code",
   "execution_count": null,
   "id": "695ddcc6-e1eb-4ee2-85f1-09ba1da57911",
   "metadata": {},
   "outputs": [],
   "source": [
    "#我们的树对训练集的拟合程度如何？\n",
    "score_train = clf.score(Xtrain, Ytrain)\n",
    "score_train\n",
    "\n",
    "clf = tree.DecisionTreeClassifier(criterion=\"entropy\"\n",
    "                                 ,random_state=30\n",
    "                                 ,splitter=\"random\"\n",
    "                                 ,max_depth=3\n",
    "                                 ,min_samples_leaf=10#min_samples_leaf限定，一个节点在分枝后的每个子节点都必须包含至少min_samples_leaf个训练样本\n",
    "                                 ,min_samples_split=10#一个节点必须要包含至少min_samples_split个训练样本\n",
    "                                 )\n",
    "clf = clf.fit(Xtrain, Ytrain)\n",
    "dot_data = tree.export_graphviz(clf\n",
    "                               ,feature_names= feature_name\n",
    "                               ,class_names=[\"琴酒\",\"雪莉\",\"贝尔摩德\"]\n",
    "                               ,filled=True\n",
    "                               ,rounded=True\n",
    "                               )  \n",
    "graph = graphviz.Source(dot_data)\n",
    "graph"
   ]
  },
  {
   "cell_type": "code",
   "execution_count": null,
   "id": "ab5cd187-55e9-4b09-9fb5-f5bbd05b71ab",
   "metadata": {},
   "outputs": [],
   "source": [
    "clf.score(Xtrain,Ytrain)\n",
    "clf.score(Xtest,Ytest)"
   ]
  },
  {
   "cell_type": "code",
   "execution_count": null,
   "id": "4e7343bb-6a72-495b-b380-c273e343930e",
   "metadata": {},
   "outputs": [],
   "source": [
    "import matplotlib.pyplot as plt\n",
    "test = []\n",
    "for i in range(10):\n",
    "    clf = tree.DecisionTreeClassifier(max_depth=i+1\n",
    "                                     ,criterion=\"entropy\"\n",
    "                                     ,random_state=30\n",
    "                                     ,splitter=\"random\"\n",
    "                                     )\n",
    "    clf = clf.fit(Xtrain, Ytrain)\n",
    "    score = clf.score(Xtest, Ytest)\n",
    "    test.append(score)\n",
    "plt.plot(range(1,11),test,color=\"red\",label=\"max_depth\")\n",
    "plt.legend()\n",
    "plt.show()"
   ]
  },
  {
   "cell_type": "markdown",
   "id": "73e7c957-7978-4968-b7b8-b31a481e6bc7",
   "metadata": {},
   "source": [
    "# 重要属性和接口"
   ]
  },
  {
   "cell_type": "code",
   "execution_count": null,
   "id": "e3b554fa-44d6-4e83-aca0-acbf153eda58",
   "metadata": {},
   "outputs": [],
   "source": [
    "#apply返回每个测试样本所在的叶子节点的索引\n",
    "clf.apply(Xtest)"
   ]
  },
  {
   "cell_type": "code",
   "execution_count": null,
   "id": "29b36c7a-c2fa-486e-949a-78dc6893354c",
   "metadata": {},
   "outputs": [],
   "source": [
    "#predict返回每个测试样本的分类/回归结果\n",
    "clf.predict(Xtest)"
   ]
  },
  {
   "cell_type": "markdown",
   "id": "fb6837bb-76c0-40d0-9829-97516441b816",
   "metadata": {},
   "source": [
    "# 案例"
   ]
  },
  {
   "cell_type": "code",
   "execution_count": null,
   "id": "3b0e951a-134f-4db4-b591-6971e80dfdcd",
   "metadata": {},
   "outputs": [],
   "source": [
    "import numpy as np\n",
    "import matplotlib.pyplot as plt\n",
    "from matplotlib.colors import ListedColormap\n",
    "from sklearn.model_selection import train_test_split\n",
    "from sklearn.preprocessing import StandardScaler\n",
    "from sklearn.datasets import make_moons, make_circles, make_classification\n",
    "from sklearn.tree import DecisionTreeClassifier\n",
    "\n",
    "#make_classification库生成随机的二分型数据\n",
    "X, y = make_classification(n_samples=100, #生成100个样本\n",
    "                           n_features=2,  #包含2个特征，即生成二维数据\n",
    "                           n_redundant=0, #添加冗余特征0个\n",
    "                           n_informative=2, #包含信息的特征是2个\n",
    "                           random_state=1,  #随机模式1\n",
    "                           n_clusters_per_class=1 #每个簇内包含的标签类别有1个\n",
    "                         )\n",
    "#在这里可以查看一下X和y，其中X是100行带有两个2特征的数据，y是二分类标签\n",
    "#也可以画出散点图来观察一下X中特征的分布\n",
    "plt.scatter(X[:,0],X[:,1])"
   ]
  },
  {
   "cell_type": "code",
   "execution_count": null,
   "id": "9b07b1d6-4be1-464b-a5bd-272fb665115b",
   "metadata": {},
   "outputs": [],
   "source": [
    "#从图上可以看出，生成的二分型数据的两个簇离彼此很远，这样不利于我们测试分类器的效果，因此我们使用np生成随机数组，通过让已经生成的二分型数据点加减0~1之间的随机数，使数据分布变得更散更稀疏\n",
    "#注意，这个过程只能够运行一次，因为多次运行之后X会变得非常稀疏，两个簇的数据会混合在一起，分类器的效应会继续下降\n",
    "rng = np.random.RandomState(2) #生成一种随机模式\n",
    "X += 2 * rng.uniform(size=X.shape) #加减0~1之间的随机数\n",
    "linearly_separable = (X, y) #生成了新的X，依然可以画散点图来观察一下特征的分布\n",
    "plt.scatter(X[:,0],X[:,1])\n",
    "#用make_moons创建月亮型数据，make_circles创建环形数据，并将三组数据打包起来放在列表datasets中\n",
    "datasets = [make_moons(noise=0.3, random_state=0),\n",
    "            make_circles(noise=0.2, factor=0.5, random_state=1),\n",
    "            linearly_separable]"
   ]
  },
  {
   "cell_type": "code",
   "execution_count": null,
   "id": "6b08ed71-ded7-41a9-939a-c651f23a7d85",
   "metadata": {},
   "outputs": [],
   "source": [
    "#创建画布，宽高比为6*9\n",
    "figure = plt.figure(figsize=(6, 9))\n",
    "#设置用来安排图像显示位置的全局变量i\n",
    "i = 1\n",
    "#开始迭代数据，对datasets中的数据进行for循环\n",
    "for ds_index, ds in enumerate(datasets):\n",
    "    \n",
    "    #对X中的数据进行标准化处理，然后分训练集和测试集\n",
    "    X, y = ds\n",
    "    X = StandardScaler().fit_transform(X) \n",
    "    X_train, X_test, y_train, y_test = train_test_split(X, y, test_size=.4, random_state=42)\n",
    "    \n",
    "    #找出数据集中两个特征的最大值和最小值，让最大值+0.5，最小值-0.5，创造一个比两个特征的区间本身更大一点的区间\n",
    "    x1_min, x1_max = X[:, 0].min() - .5, X[:, 0].max() + .5\n",
    "    x2_min, x2_max = X[:, 1].min() - .5, X[:, 1].max() + .5\n",
    "    \n",
    "    #用特征向量生成网格数据，网格数据，其实就相当于坐标轴上无数个点\n",
    "    #函数np.arange在给定的两个数之间返回均匀间隔的值，0.2为步长\n",
    "    #函数meshgrid用以生成网格数据，能够将两个一维数组生成两个二维矩阵。\n",
    "    #如果第一个数组是narray，维度是n，第二个参数是marray，维度是m。那么生成的第一个二维数组是以narray为行，m行的矩阵，而第二个二维数组是以marray的转置为列，n列的矩阵\n",
    "    #生成的网格数据，是用来绘制决策边界的，因为绘制决策边界的函数contourf要求输入的两个特征都必须是二维的\n",
    "    array1,array2 = np.meshgrid(np.arange(x1_min, x1_max, 0.2),\n",
    "                         np.arange(x2_min, x2_max, 0.2))\n",
    "    #接下来生成彩色画布\n",
    "    #用ListedColormap为画布创建颜色，#FF0000正红，#0000FF正蓝\n",
    "    cm = plt.cm.RdBu\n",
    "    cm_bright = ListedColormap(['#FF0000', '#0000FF'])\n",
    "    \n",
    "    #在画布上加上一个子图，数据为len(datasets)行，2列，放在位置i上\n",
    "    ax = plt.subplot(len(datasets), 2, i)\n",
    " \n",
    "    #到这里为止，已经生成了0~1之间的坐标系3个了，接下来为我们的坐标系放上标题\n",
    "    #我们有三个坐标系，但我们只需要在第一个坐标系上有标题，因此设定if ds_index==0这个条件\n",
    "    if ds_index == 0:\n",
    "        ax.set_title(\"Input data\")\n",
    "    \n",
    "    #将数据集的分布放到我们的坐标系上\n",
    "    #先放训练集\n",
    "    ax.scatter(X_train[:, 0], X_train[:, 1], c=y_train, \n",
    "               cmap=cm_bright,edgecolors='k')\n",
    "    #放测试集\n",
    "    ax.scatter(X_test[:, 0], X_test[:, 1], c=y_test, \n",
    "               cmap=cm_bright, alpha=0.6,edgecolors='k')\n",
    "    \n",
    "     #为图设置坐标轴的最大值和最小值，并设定没有坐标轴\n",
    "    ax.set_xlim(array1.min(), array1.max())\n",
    "    ax.set_ylim(array2.min(), array2.max())\n",
    "    ax.set_xticks(())\n",
    "    ax.set_yticks(())\n",
    "    \n",
    "    #每次循环之后，改变i的取值让图每次位列不同的位置\n",
    "    i += 1\n",
    "    \n",
    "    #至此为止，数据集本身的图像已经布置完毕，运行以上的代码，可以看见三个已经处理好的数据集"
   ]
  },
  {
   "cell_type": "code",
   "execution_count": null,
   "id": "4fec18c0-d9a0-4bcb-82b7-6191d5187143",
   "metadata": {},
   "outputs": [],
   "source": [
    "#迭代决策树，首先用subplot增加子图，subplot(行，列，索引)这样的结构，并使用索引i定义图的位置\n",
    "#在这里，len(datasets)其实就是3，2是两列\n",
    "#在函数最开始，我们定义了i=1，并且在上边建立数据集的图像的时候，已经让i+1,所以i在每次循环中的取值是2，4，6\n",
    "ax = plt.subplot(len(datasets),2,i)\n",
    "\n",
    "#决策树的建模过程：实例化 → fit训练 → score接口得到预测的准确率\n",
    "clf = DecisionTreeClassifier(max_depth=5)\n",
    "clf.fit(X_train, y_train)\n",
    "score = clf.score(X_test, y_test)\n",
    "\n",
    "#绘制决策边界，为此，我们将为网格中的每个点指定一种颜色[x1_min，x1_max] x [x2_min，x2_max]\n",
    "#分类树的接口，predict_proba，返回每一个输入的数据点所对应的标签类概率\n",
    "#类概率是数据点所在的叶节点中相同类的样本数量/叶节点中的样本总数量\n",
    "#由于决策树在训练的时候导入的训练集X_train里面包含两个特征，所以我们在计算类概率的时候，也必须导入结构相同的数组，即是说，必须有两个特征\n",
    "#ravel()能够将一个多维数组转换成一维数组\n",
    "#np.c_是能够将两个数组组合起来的函数\n",
    "#在这里，我们先将两个网格数据降维降维成一维数组，再将两个数组链接变成含有两个特征的数据，再带入决策树模型，生成的Z包含数据的索引和每个样本点对应的类概率，再切片，且出类概率\n",
    "Z = clf.predict_proba(np.c_[array1.ravel(),array2.ravel()])[:, 1]\n",
    "\n",
    "#np.c_[np.array([1,2,3]), np.array([4,5,6])]\n",
    "\n",
    "#将返回的类概率作为数据，放到contourf里面绘制去绘制轮廓\n",
    "Z = Z.reshape(array1.shape)\n",
    "ax.contourf(array1, array2, Z, cmap=cm, alpha=.8)\n",
    "\n",
    "#将数据集的分布放到我们的坐标系上\n",
    "# 将训练集放到图中去\n",
    "ax.scatter(X_train[:, 0], X_train[:, 1], c=y_train, cmap=cm_bright,\n",
    "           edgecolors='k')\n",
    "# 将测试集放到图中去\n",
    "ax.scatter(X_test[:, 0], X_test[:, 1], c=y_test, cmap=cm_bright,\n",
    "           edgecolors='k', alpha=0.6)\n",
    "\n",
    "#为图设置坐标轴的最大值和最小值\n",
    "ax.set_xlim(array1.min(), array1.max())\n",
    "ax.set_ylim(array2.min(), array2.max())\n",
    "#设定坐标轴不显示标尺也不显示数字\n",
    "ax.set_xticks(())\n",
    "ax.set_yticks(())\n",
    "\n",
    "#我们有三个坐标系，但我们只需要在第一个坐标系上有标题，因此设定if ds_index==0这个条件\n",
    "if ds_index == 0:\n",
    "    ax.set_title(\"Decision Tree\")\n",
    "\n",
    "#写在右下角的数字    \n",
    "ax.text(array1.max() - .3, array2.min() + .3, ('{:.1f}%'.format(score*100)),\n",
    "        size=15, horizontalalignment='right')\n",
    "\n",
    "#让i继续加一\n",
    "i += 1\n",
    "plt.tight_layout()\n",
    "plt.show()"
   ]
  },
  {
   "cell_type": "markdown",
   "id": "05c99f28-db63-4853-9c7e-91038fc2cdbb",
   "metadata": {},
   "source": [
    "# 回归树拟合正弦函数"
   ]
  },
  {
   "cell_type": "code",
   "execution_count": null,
   "id": "1b76d4db-31eb-4497-8c46-88e686588609",
   "metadata": {},
   "outputs": [],
   "source": [
    "import numpy as np\n",
    "from sklearn.tree import DecisionTreeRegressor\n",
    "import matplotlib.pyplot as plt"
   ]
  },
  {
   "cell_type": "code",
   "execution_count": null,
   "id": "4471b8eb-f7b3-48b3-965b-4c6571e82c9f",
   "metadata": {},
   "outputs": [],
   "source": [
    "# 创建一个随机数生成器，设置种子为1\n",
    "rng = np.random.RandomState(1)\n",
    "\n",
    "# 生成一个80x1的随机数组，每个值在[0, 5)范围内，并按列排序\n",
    "X = np.sort(5 * rng.rand(80, 1), axis=0)\n",
    "\n",
    "# 计算y值，y是X的正弦值，并将其展平为一维数组\n",
    "y = np.sin(X).ravel()\n",
    "plt.figure()\n",
    "plt.scatter(X,y,s=20,edgecolor=\"black\",c=\"darkorange\",label=\"data\")#svatter画散点图\n",
    "\n",
    "# 每隔5个数据点，在y值上添加噪声\n",
    "y[::5] += 3 * (0.5 - rng.rand(16))#步长为5\n",
    "\n",
    "plt.figure()\n",
    "plt.scatter(X,y,s=20,edgecolor=\"black\",c=\"darkorange\",label=\"data\")#svatter画散点图\n",
    "\n",
    "# 测试ravel()的用法\n",
    "print(\"随机数组：\", np.random.random((2, 1)))\n",
    "print(\"展平后的数组：\", np.random.random((2, 1)).ravel())\n",
    "print(\"展平后数组的形状：\", np.random.random((2, 1)).ravel().shape)\n",
    "\n",
    "regr_1=DecisionTreeRegressor(max_depth=2)\n",
    "regr_1.fit(X,y)\n",
    "regr_2=DecisionTreeRegressor(max_depth=5)\n",
    "regr_2.fit(X,y)"
   ]
  },
  {
   "cell_type": "code",
   "execution_count": null,
   "id": "b2a8ecdb-49f7-4102-9873-2cfa737f1cc6",
   "metadata": {},
   "outputs": [],
   "source": [
    "X_test=np.arange(0,5,0.01)[:,np.newaxis]#开始点、结束点、步长,切片增维\n",
    "#print(X_test)\n",
    "y_1=regr_1.predict(X_test)\n",
    "y_2=regr_2.predict(X_test)"
   ]
  },
  {
   "cell_type": "code",
   "execution_count": null,
   "id": "8d0a5a1d-96ba-4074-a3dd-3634935fd354",
   "metadata": {},
   "outputs": [],
   "source": [
    "plt.figure()\n",
    "plt.scatter(X,y,s=20,edgecolor=\"black\",c=\"darkorange\",label=\"data\")\n",
    "plt.plot(X_test,y_1,color=\"cornflowerblue\",label=\"max_depth=2\",linewidth=2)\n",
    "plt.plot(X_test,y_2,color=\"yellowgreen\",label=\"max_depth=5\",linewidth=2)\n",
    "plt.xlabel(\"data\")\n",
    "plt.ylabel(\"target\")\n",
    "plt.title(\"Decision Tree Regression\")\n",
    "plt.legend()\n",
    "plt.show()"
   ]
  },
  {
   "cell_type": "markdown",
   "id": "6aaf36d3-378d-4f9e-b9e4-ca55b4ce1087",
   "metadata": {},
   "source": [
    "# 泰坦尼克幸存者预测"
   ]
  },
  {
   "cell_type": "code",
   "execution_count": null,
   "id": "1011a519-1e89-4044-9fa9-5058af23f24d",
   "metadata": {},
   "outputs": [],
   "source": [
    "import pandas as pd\n",
    "from sklearn.tree import DecisionTreeClassifier\n",
    "import matplotlib.pyplot as plt\n",
    "from sklearn.model_selection import GridSearchCV\n",
    "\n",
    "#处理训练集\n",
    "data=pd.read_csv(\"./train.csv\")\n",
    "#print(data.info)\n",
    "#print(data.head(10))\n",
    "#筛选特征\n",
    "data.drop([\"Cabin\",\"Name\",\"Ticket\"],inplace=True,axis=1)#删除列\n",
    "#print(data.head(10))\n",
    "#处理缺失值\n",
    "data[\"Age\"]=data[\"Age\"].fillna(data[\"Age\"].mean())#使用均值填充缺失值\n",
    "data=data.dropna()#删除有缺失值的行\n",
    "\n",
    "labels=data[\"Embarked\"].unique().tolist()\n",
    "data[\"Embarked\"]=data[\"Embarked\"].apply(lambda x:labels.index(x))#将登船状态转换成数字\n",
    "\n",
    "#data[\"Sex\"]=(data[\"Sex\"]==\"male\")\n",
    "data[\"Sex\"]=(data[\"Sex\"]==\"male\").astype(\"int\")#将布尔值转换为其它数据类型\n",
    "\n",
    "#data.head(10)\n",
    "\n",
    "# 取出所有行，排除 \"Survived\" 列\n",
    "Xtrain = data.loc[:, data.columns != \"Survived\"]\n",
    "Ytrain = data.loc[:, data.columns == \"Survived\"]  # 取出 \"Survived\" 列作为目标变量\n",
    "\n",
    "#print(\"x:\\n\", x)\n",
    "#print(\"y:\\n\", y)\n",
    "\n",
    "#处理测试集\n",
    "data=pd.read_csv(\"./test.csv\")\n",
    "#print(data.info)\n",
    "#print(data.head(10))\n",
    "#筛选特征\n",
    "data.drop([\"Cabin\",\"Name\",\"Ticket\"],inplace=True,axis=1)#删除列\n",
    "#处理缺失值\n",
    "data[\"Age\"]=data[\"Age\"].fillna(data[\"Age\"].mean())#使用均值填充缺失值\n",
    "data=data.dropna()#删除有缺失值的行\n",
    "labels=data[\"Embarked\"].unique().tolist()\n",
    "data[\"Embarked\"]=data[\"Embarked\"].apply(lambda x:labels.index(x))#将登船状态转换成数字\n",
    "#data[\"Sex\"]=(data[\"Sex\"]==\"male\")\n",
    "data[\"Sex\"]=(data[\"Sex\"]==\"male\").astype(\"int\")#将布尔值转换为其它数据类型\n",
    "# 取出所有行，排除 \"Survived\" 列\n",
    "Xtest = data.loc[:, data.columns != \"Survived\"]\n",
    "Ytest = data.loc[:, data.columns == \"Survived\"]  # 取出 \"Survived\" 列作为目标变量\n",
    "\n",
    "#print(\"x:\\n\", x)\n",
    "#print(\"y:\\n\", y)\n",
    "\n",
    "#print(Xtrain.shape,Ytrain.shape,Xtest.shape,Ytest.shape)\n",
    "\n",
    "#print(Xtrain,Ytrain,Xtest,Ytest)\n",
    "\n",
    "for i in [Xtrain,Xtest,Ytrain,Ytest]:#前面取的是乱序的，重新排一下（纠正索引）\n",
    "    i.index=range(i.shape[0])\n",
    "#print(Xtrain,Ytrain,Xtest,Ytest)\n",
    "\n",
    "clf=DecisionTreeClassifier(random_state=25)\n",
    "clf=clf.fit(Xtrain,Ytrain)\n",
    "score=clf.score(Xtest,Ytest)"
   ]
  },
  {
   "cell_type": "markdown",
   "id": "22d87d9f-2cf3-4bb2-962d-fd81f7be3805",
   "metadata": {},
   "source": [
    "# kimi泰坦尼克"
   ]
  },
  {
   "cell_type": "code",
   "execution_count": 88,
   "id": "1d1c76ea-c464-414f-9f25-5089adfc5a60",
   "metadata": {},
   "outputs": [
    {
     "name": "stdout",
     "output_type": "stream",
     "text": [
      "最佳参数： {'max_depth': 7, 'min_samples_split': 5}\n",
      "最佳分数： 0.7942042785501174\n"
     ]
    }
   ],
   "source": [
    "import pandas as pd\n",
    "from sklearn.tree import DecisionTreeClassifier\n",
    "from sklearn.model_selection import GridSearchCV\n",
    "\n",
    "# 处理训练集\n",
    "train_data = pd.read_csv(\"./train.csv\")\n",
    "# 筛选特征\n",
    "train_data.drop([\"Cabin\", \"Name\", \"Ticket\"], inplace=True, axis=1)  # 删除列\n",
    "# 处理缺失值\n",
    "train_data[\"Age\"] = train_data[\"Age\"].fillna(train_data[\"Age\"].mean())  # 使用均值填充缺失值\n",
    "train_data = train_data.dropna()  # 删除有缺失值的行\n",
    "# 将分类变量转换为数值\n",
    "labels = train_data[\"Embarked\"].unique().tolist()\n",
    "train_data[\"Embarked\"] = train_data[\"Embarked\"].apply(lambda x: labels.index(x))  # 将登船状态转换成数字\n",
    "train_data[\"Sex\"] = (train_data[\"Sex\"] == \"male\").astype(\"int\")  # 将布尔值转换为整数\n",
    "\n",
    "# 取出所有行，排除 \"Survived\" 列\n",
    "Xtrain = train_data.loc[:, train_data.columns != \"Survived\"]\n",
    "Ytrain = train_data.loc[:, train_data.columns == \"Survived\"]  # 取出 \"Survived\" 列作为目标变量\n",
    "\n",
    "# 处理测试集\n",
    "test_data = pd.read_csv(\"./test.csv\")\n",
    "# 筛选特征\n",
    "test_data.drop([\"Cabin\", \"Name\", \"Ticket\"], inplace=True, axis=1)  # 删除列\n",
    "# 处理缺失值\n",
    "test_data[\"Age\"] = test_data[\"Age\"].fillna(test_data[\"Age\"].mean())  # 使用均值填充缺失值\n",
    "test_data = test_data.dropna()  # 删除有缺失值的行\n",
    "# 将分类变量转换为数值\n",
    "labels = test_data[\"Embarked\"].unique().tolist()\n",
    "test_data[\"Embarked\"] = test_data[\"Embarked\"].apply(lambda x: labels.index(x))  # 将登船状态转换成数字\n",
    "test_data[\"Sex\"] = (test_data[\"Sex\"] == \"male\").astype(\"int\")  # 将布尔值转换为整数\n",
    "\n",
    "# 重置索引\n",
    "Xtrain.reset_index(drop=True, inplace=True)\n",
    "Ytrain.reset_index(drop=True, inplace=True)\n",
    "\n",
    "# 注意：测试集没有目标变量，因此不需要 Ytest\n",
    "Xtest = test_data\n",
    "\n",
    "# 训练决策树模型\n",
    "clf = DecisionTreeClassifier(random_state=25)\n",
    "clf.fit(Xtrain, Ytrain)\n",
    "\n",
    "# 预测测试集\n",
    "predictions = clf.predict(Xtest)\n",
    "\n",
    "# 如果需要保存预测结果\n",
    "submission = pd.DataFrame({\"PassengerId\": test_data[\"PassengerId\"], \"Survived\": predictions})\n",
    "submission.to_csv(\"submission.csv\", index=False)\n",
    "\n",
    "# 如果需要使用 GridSearchCV 优化超参数\n",
    "param_grid = {\"max_depth\": [3, 5, 7, 10], \"min_samples_split\": [2, 5, 10]}\n",
    "grid_search = GridSearchCV(DecisionTreeClassifier(random_state=25), param_grid, cv=5)\n",
    "grid_search.fit(Xtrain, Ytrain)\n",
    "print(\"最佳参数：\", grid_search.best_params_)\n",
    "print(\"最佳分数：\", grid_search.best_score_)"
   ]
  },
  {
   "cell_type": "code",
   "execution_count": null,
   "id": "1f8428cb-93ee-4d5e-af2e-ed729869b04a",
   "metadata": {},
   "outputs": [],
   "source": []
  }
 ],
 "metadata": {
  "kernelspec": {
   "display_name": "Python 3 (ipykernel)",
   "language": "python",
   "name": "python3"
  },
  "language_info": {
   "codemirror_mode": {
    "name": "ipython",
    "version": 3
   },
   "file_extension": ".py",
   "mimetype": "text/x-python",
   "name": "python",
   "nbconvert_exporter": "python",
   "pygments_lexer": "ipython3",
   "version": "3.12.7"
  }
 },
 "nbformat": 4,
 "nbformat_minor": 5
}
