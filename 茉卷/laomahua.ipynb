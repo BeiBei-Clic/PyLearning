{
 "cells": [
  {
   "cell_type": "code",
   "execution_count": 1,
   "metadata": {},
   "outputs": [
    {
     "name": "stderr",
     "output_type": "stream",
     "text": [
      "C:\\Users\\33282\\AppData\\Local\\Temp\\ipykernel_8988\\1448463389.py:11: LangChainDeprecationWarning: The class `ChatOpenAI` was deprecated in LangChain 0.0.10 and will be removed in 1.0. An updated version of the class exists in the :class:`~langchain-openai package and should be used instead. To use it run `pip install -U :class:`~langchain-openai` and import as `from :class:`~langchain_openai import ChatOpenAI``.\n",
      "  llm=ChatOpenAI(temperature=0,model=\"glm-4-flash\")\n"
     ]
    }
   ],
   "source": [
    "from typing import Annotated\n",
    "from langchain_ollama import ChatOllama\n",
    "from typing_extensions import TypedDict\n",
    "from langgraph.graph import StateGraph, START, END\n",
    "from langgraph.graph.message import add_messages\n",
    "import os\n",
    "os.environ['OPENAI_API_KEY'] = os.getenv('OPENAI_API_KEY')\n",
    "os.environ['OPENAI_URL'] = os.getenv('OPENAI_BASE_URL')\n",
    "from langchain.chat_models import ChatOpenAI\n",
    "\n",
    "llm=ChatOpenAI(temperature=0,model=\"glm-4-flash\")"
   ]
  },
  {
   "cell_type": "code",
   "execution_count": 2,
   "metadata": {},
   "outputs": [],
   "source": [
    "class State(TypedDict):\n",
    "    \"\"\"\n",
    "    定义一个字典类型 State（继承自 TypeDict）\n",
    "    包含一个键 messages\n",
    "    值是一个 list，并且列表的更新方式由 add_messages 函数定义\n",
    "    add_message 将新消息追加到列表中，而不是覆盖原有列表\n",
    "    \"\"\"\n",
    "    messages: Annotated[list, add_messages]"
   ]
  },
  {
   "cell_type": "code",
   "execution_count": 3,
   "metadata": {},
   "outputs": [],
   "source": [
    "def chatbot(state: State):\n",
    "    return {\"messages\": [llm.invoke(state[\"messages\"])]}"
   ]
  },
  {
   "cell_type": "code",
   "execution_count": 4,
   "metadata": {},
   "outputs": [],
   "source": [
    "def stream_graph_updates(user_input: str):\n",
    "    for event in graph.stream({\"messages\": [(\"user\", user_input)]}):\n",
    "        for value in event.values():\n",
    "            # 访问最后一个消息的内容，并将其打印出来\n",
    "            print(\"Assistant:\", value[\"messages\"][-1].content)\n",
    "            # print(\"Test:\", value)"
   ]
  },
  {
   "cell_type": "code",
   "execution_count": 5,
   "metadata": {},
   "outputs": [
    {
     "name": "stdout",
     "output_type": "stream",
     "text": [
      "Assistant: 你好👋！很高兴见到你，有什么可以帮助你的吗？\n",
      "Assistant: It seems like you're ready to start a conversation or provide an input. Please go ahead and share what you'd like to discuss or the task you need assistance with.\n",
      "Assistant: 你好👋！很高兴见到你，有什么可以帮助你的吗？\n",
      "Assistant: 我是一个名为 ChatGLM 的人工智能助手，是基于清华大学 KEG 实验室和智谱 AI 公司于 2024 年共同训练的语言模型开发的。我的任务是针对用户的问题和要求提供适当的答复和支持。\n",
      "Assistant: 您好！如果您有任何问题或需要帮助，请随时告诉我。我在这里为您提供支持和服务。\n",
      "User: What do you know about LangGraph?\n",
      "Assistant: LangGraph is a term that could refer to several different things depending on the context. It might be a specific software tool, a research project, or a concept within the field of language technology or graph theory. Here are a few possibilities:\n",
      "\n",
      "1. **Language Graphs in Linguistics**: In linguistics, a \"language graph\" could refer to a representation of linguistic data using graph theory. Graphs are used to model relationships between different elements of language, such as words, phrases, or syntactic structures. In this context, LangGraph could be a tool or a framework that helps linguists analyze and visualize these relationships.\n",
      "\n",
      "2. **Graph Database for Language Data**: LangGraph could also refer to a graph database designed specifically for storing and querying language data. Graph databases are excellent for handling complex relationships and could be used to store linguistic information in a way that makes it easy to explore and analyze.\n",
      "\n",
      "3. **Research Project or Software Tool**: There might be a specific research project or software tool called LangGraph that focuses on the application of graph theory to language processing tasks. This could involve natural language processing (NLP), computational linguistics, or related fields.\n",
      "\n",
      "4. **Social Network Analysis**: In the context of social network analysis, LangGraph could refer to a graph that represents the relationships between users or entities in a social network, where the nodes are users and the edges represent interactions or connections between them. This could be relevant to understanding language use in social media or collaborative platforms.\n",
      "\n",
      "5. **Network Analysis of Language Evolution**: LangGraph could also be a term used to describe a project that uses graph theory to analyze the evolution of languages over time, tracking the relationships between different linguistic features and their spread across different communities or regions.\n",
      "\n",
      "Without more specific information, it's challenging to provide a detailed description of what LangGraph is. If you have more context or details about the specific LangGraph you're referring to, I could give you a more accurate explanation.\n"
     ]
    }
   ],
   "source": [
    "if __name__ == '__main__':\n",
    "    # 1. 创建一个 StateGraph 对象\n",
    "    graph_builder = StateGraph(State)\n",
    "\n",
    "    # 2. 添加 chatbot 节点\n",
    "    graph_builder.add_node(\"chatbot\", chatbot)\n",
    "\n",
    "    # 3. 定义 StateGraph 的入口\n",
    "    # graph_builder.add_edge(START, \"chatbot\")\n",
    "    graph_builder.set_entry_point(\"chatbot\")\n",
    "\n",
    "    # 4. 定义 StateGraph 的出口\n",
    "    # graph_builder.add_edge(\"chatbot\", END)\n",
    "    graph_builder.set_finish_point(\"chatbot\")\n",
    "\n",
    "    # 5. 创建一个 CompiledGraph，以便后续调用\n",
    "    graph = graph_builder.compile()\n",
    "\n",
    "    # 6. 可视化 graph\n",
    "    try:\n",
    "        graph.get_graph().draw_mermaid_png(output_file_path=\"graph.png\")\n",
    "    except Exception:\n",
    "        # This requires some extra dependencies and is optional\n",
    "        pass\n",
    "\n",
    "    # 7. 运行 graph\n",
    "    # 通过输入\"quit\", \"exit\", \"q\"结束对话\n",
    "    while True:\n",
    "        try:\n",
    "            user_input = input(\"User: \")\n",
    "            if user_input.lower() in [\"quit\", \"exit\", \"q\"]:\n",
    "                print(\"Goodbye!\")\n",
    "                break\n",
    "\n",
    "            stream_graph_updates(user_input)\n",
    "        # 如果在 try 块中的代码执行时发生任何异常，将执行 except 块中的代码\n",
    "        except:\n",
    "            # 在异常情况下，这行代码将 user_input 变量设置为一个特定的问题\n",
    "            user_input = \"What do you know about LangGraph?\"\n",
    "            print(\"User: \" + user_input)\n",
    "            stream_graph_updates(user_input)\n",
    "            break"
   ]
  },
  {
   "cell_type": "code",
   "execution_count": null,
   "metadata": {},
   "outputs": [],
   "source": []
  }
 ],
 "metadata": {
  "kernelspec": {
   "display_name": "LangChain",
   "language": "python",
   "name": "python3"
  },
  "language_info": {
   "codemirror_mode": {
    "name": "ipython",
    "version": 3
   },
   "file_extension": ".py",
   "mimetype": "text/x-python",
   "name": "python",
   "nbconvert_exporter": "python",
   "pygments_lexer": "ipython3",
   "version": "3.13.2"
  }
 },
 "nbformat": 4,
 "nbformat_minor": 2
}
