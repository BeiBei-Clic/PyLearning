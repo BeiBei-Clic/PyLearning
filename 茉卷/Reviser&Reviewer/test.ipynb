{
 "cells": [
  {
   "cell_type": "code",
   "execution_count": 7,
   "id": "c6397c9a",
   "metadata": {},
   "outputs": [
    {
     "name": "stdout",
     "output_type": "stream",
     "text": [
      "不通过\n"
     ]
    }
   ],
   "source": [
    "response = \"通过哈哈报告\"\n",
    "\n",
    "\n",
    "if \"通过报告\" in response:\n",
    "    print(\"通过\")\n",
    "else:\n",
    "    print(\"不通过\")"
   ]
  }
 ],
 "metadata": {
  "kernelspec": {
   "display_name": "LangChain",
   "language": "python",
   "name": "python3"
  },
  "language_info": {
   "codemirror_mode": {
    "name": "ipython",
    "version": 3
   },
   "file_extension": ".py",
   "mimetype": "text/x-python",
   "name": "python",
   "nbconvert_exporter": "python",
   "pygments_lexer": "ipython3",
   "version": "3.13.2"
  }
 },
 "nbformat": 4,
 "nbformat_minor": 5
}
